{
    "cells": [
        {
            "attachments": {},
            "cell_type": "markdown",
            "metadata": {},
            "source": [
                "# text generation\n",
                "from messages"
            ]
        },
        {
            "cell_type": "code",
            "execution_count": 1,
            "metadata": {},
            "outputs": [],
            "source": [
                "# ! pip3 install --upgrade openai"
            ]
        },
        {
            "cell_type": "code",
            "execution_count": 2,
            "metadata": {},
            "outputs": [
                {
                    "name": "stderr",
                    "output_type": "stream",
                    "text": [
                        "🛠️  openai_commands-3.242.1.blueflow-4.849.1.abcli-9.486.1.blue_objects-5.283.1.blue_options-4.207.1.torch-2.5.1.Python 3.9.6.Darwin 23.6.0..Jupyter-Notebook,\n",
                        "built on 04 February 2025, 11:36:40\n"
                    ]
                }
            ],
            "source": [
                "import sys\n",
                "sys.path.append(\"../\")\n",
                "\n",
                "from blueflow import notebooks\n",
                "\n",
                "from blue_options import string\n",
                "\n",
                "from openai_commands.tests.test_text_generation import test_messages\n",
                "from openai_commands.text_generation.api import generate_text\n",
                "from openai_commands.host import signature\n",
                "from openai_commands.logger import logger\n",
                "\n",
                "logger.info(f\"{'.'.join(signature())},\\nbuilt on {string.pretty_date()}\")"
            ]
        },
        {
            "cell_type": "code",
            "execution_count": 3,
            "metadata": {},
            "outputs": [
                {
                    "name": "stderr",
                    "output_type": "stream",
                    "text": [
                        "httpx HTTP Request: POST https://api.openai.com/v1/chat/completions \"HTTP/1.1 200 OK\"\n",
                        "🛠️  response: ChatCompletion(id='chatcmpl-AxJ0qRpV38wCHo1cI8Asv2llWT2ZB', choices=[Choice(finish_reason='stop', index=0, logprobs=None, message=ChatCompletionMessage(content='Numbers, shapes, patterns, logic, calculations, problem-solving.', refusal=None, role='assistant', audio=None, function_call=None, tool_calls=None))], created=1738697800, model='gpt-3.5-turbo-0125', object='chat.completion', service_tier='default', system_fingerprint=None, usage=CompletionUsage(completion_tokens=14, prompt_tokens=13, total_tokens=27, completion_tokens_details=CompletionTokensDetails(accepted_prediction_tokens=0, audio_tokens=0, reasoning_tokens=0, rejected_prediction_tokens=0), prompt_tokens_details=PromptTokensDetails(audio_tokens=0, cached_tokens=0)))\n"
                    ]
                }
            ],
            "source": [
                "success, text, _ = generate_text(messages=test_messages)\n",
                "assert success"
            ]
        },
        {
            "cell_type": "code",
            "execution_count": 4,
            "metadata": {},
            "outputs": [
                {
                    "name": "stderr",
                    "output_type": "stream",
                    "text": [
                        "🛠️  Numbers, shapes, patterns, logic, calculations, problem-solving.\n"
                    ]
                }
            ],
            "source": [
                "logger.info(text)"
            ]
        },
        {
            "cell_type": "code",
            "execution_count": 5,
            "metadata": {},
            "outputs": [],
            "source": [
                "# END"
            ]
        }
    ],
    "metadata": {
        "kernelspec": {
            "display_name": ".venv",
            "language": "python",
            "name": "python3"
        },
        "language_info": {
            "codemirror_mode": {
                "name": "ipython",
                "version": 3
            },
            "file_extension": ".py",
            "mimetype": "text/x-python",
            "name": "python",
            "nbconvert_exporter": "python",
            "pygments_lexer": "ipython3",
            "version": "3.9.6"
        },
        "orig_nbformat": 4
    },
    "nbformat": 4,
    "nbformat_minor": 2
}
