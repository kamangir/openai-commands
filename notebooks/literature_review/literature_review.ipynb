{
    "cells": [
        {
            "attachments": {},
            "cell_type": "markdown",
            "metadata": {},
            "source": [
                "# literature review"
            ]
        },
        {
            "cell_type": "code",
            "execution_count": 1,
            "metadata": {},
            "outputs": [],
            "source": [
                "# ! cd ~/git/openai; pip3 install -e .\n",
                "# !pip3 install --upgrade openai"
            ]
        },
        {
            "cell_type": "code",
            "execution_count": 2,
            "metadata": {},
            "outputs": [
                {
                    "name": "stderr",
                    "output_type": "stream",
                    "text": [
                        "🛠️  using openai_commands-3.91.1.\n"
                    ]
                }
            ],
            "source": [
                "from abcli.modules import objects\n",
                "from openai_commands import NAME, VERSION\n",
                "from openai_commands import env\n",
                "from openai_commands.literature_review.functions import review_literature\n",
                "from openai_commands.logger import logger\n",
                "\n",
                "logger.info(f\"using {NAME}-{VERSION}.\")"
            ]
        },
        {
            "cell_type": "code",
            "execution_count": 3,
            "metadata": {},
            "outputs": [],
            "source": [
                "# filename = \"review_463333_screen_csv_20240730130035.csv\"\n",
                "# filename = \"review_463333_irrelevant_csv_20240730131027.csv\"\n",
                "filename = \"review_463333_screen_csv_20240730130035.csv\""
            ]
        },
        {
            "cell_type": "code",
            "execution_count": 4,
            "metadata": {},
            "outputs": [
                {
                    "name": "stderr",
                    "output_type": "stream",
                    "text": [
                        ":: 📂 notebook-test-2024-08-05-12-17-57-59743\n",
                        "🛠️  openai_commands.literature_review.review_literature: AMR-v7/review_463333_screen_csv_20240730130035.csv -question1.yaml-5X-> notebook-test-2024-08-05-12-17-57-59743/review_463333_screen_csv_20240730130035-question1.csv[question1]\n",
                        ":: loaded 3751 row(s) of Title, Authors, Abstract, Published Year, Published Month, Journal, Volume, Issue, Pages, Accession Number, DOI, Ref, Covidence #, Study, Notes, Tags from /Users/kamangir/storage/abcli/AMR-v7/review_463333_screen_csv_20240730130035.csv\n",
                        "🛠️  read this abstract of a scentific paper @ 3 choice(s): {'antimicrobial': 'if it talks about antimicrobial treatment for cholera.', 'susceptibility': 'if it has information regarding antibiotic-reistance or susceptibility to cholerae strains.', 'otherwise': 'not relevant'}\n",
                        "🛠️  prompt: read this abstract of a scentific paper and return the correct choice from the following list followed with \"because\" and then describe the reason for this choice in less than ten words. choices: \"antimicrobial\" if it talks about antimicrobial treatment for cholera. \"susceptibility\" if it has information regarding antibiotic-reistance or susceptibility to cholerae strains. \"not relevant\" if none of the above choices is correct.\"\n",
                        "🛠️  added column: question1\n",
                        "  0%|          | 0/3751 [00:00<?, ?it/s]httpx HTTP Request: POST https://api.openai.com/v1/chat/completions \"HTTP/1.1 200 OK\"\n",
                        "🛠️  antimicrobial because it discusses treatment for diarrhoeal disease. | Worldwide, there are about two billion cases of diarrhoeal disease every year and it is the second l ... \n",
                        "  0%|          | 1/3751 [00:00<1:01:03,  1.02it/s]httpx HTTP Request: POST https://api.openai.com/v1/chat/completions \"HTTP/1.1 200 OK\"\n",
                        "🛠️  \"susceptibility\" because it discusses antibiotic-resistance and susceptibility to cholerae strains. | BACKGROUND: Acute diarrhoea is a common cause of illness and death among children in low- to middle- ... \n",
                        "  0%|          | 2/3751 [00:01<54:51,  1.14it/s]  httpx HTTP Request: POST https://api.openai.com/v1/chat/completions \"HTTP/1.1 200 OK\"\n",
                        "🛠️  \"susceptibility\" because it discusses antibiotic resistance in cholera strains. The abstract mentions phenotypes like antimicrobial resistance and detecting mobile genetic elements. | Diversity-generating and mobile genetic elements are paramount to microbial and viral evolution and  ... \n",
                        "  0%|          | 3/3751 [00:02<56:20,  1.11it/s]httpx HTTP Request: POST https://api.openai.com/v1/chat/completions \"HTTP/1.1 200 OK\"\n",
                        "🛠️  \"not relevant\" because the abstract does not discuss antimicrobial treatment or susceptibility. | OBJECTIVE: To identify the possible source of the outbreak and risk factors and suggest evidence-bas ... \n",
                        "  0%|          | 4/3751 [00:03<54:18,  1.15it/s]httpx HTTP Request: POST https://api.openai.com/v1/chat/completions \"HTTP/1.1 200 OK\"\n",
                        "🛠️  \"susceptibility\" because it discusses antibiotic resistance patterns in cholera strains. | Aims: This study represents the first analysis from Iran for both the frequency of the most common c ... \n",
                        "  0%|          | 4/3751 [00:04<1:09:28,  1.11s/it]\n",
                        "🛠️  processed 5 item(s)\n",
                        ":: save_csv: 3751X[Title,Authors,Abstract,Published Year,Published Month,Journal,Volume,Issue,Pages,Accession Number,DOI,Ref,Covidence #,Study,Notes,Tags,question1] -> /Users/kamangir/storage/abcli/notebook-test-2024-08-05-12-17-57-59743/review_463333_screen_csv_20240730130035-question1.csv\n"
                    ]
                }
            ],
            "source": [
                "assert review_literature(\n",
                "        input_object_name= env.LITERATURE_REVIEW_OBJECT,\n",
                "        output_object_name=objects.unique_object(\"notebook-test\"),\n",
                "        filename=filename,\n",
                "        question_filename=\"question1.yaml\",\n",
                "        count=5 # set to -1 to process all\n",
                ")"
            ]
        },
        {
            "cell_type": "code",
            "execution_count": 5,
            "metadata": {},
            "outputs": [],
            "source": [
                "# END"
            ]
        }
    ],
    "metadata": {
        "kernelspec": {
            "display_name": "Python 3",
            "language": "python",
            "name": "python3"
        },
        "language_info": {
            "codemirror_mode": {
                "name": "ipython",
                "version": 3
            },
            "file_extension": ".py",
            "mimetype": "text/x-python",
            "name": "python",
            "nbconvert_exporter": "python",
            "pygments_lexer": "ipython3",
            "version": "3.9.19"
        },
        "orig_nbformat": 4
    },
    "nbformat": 4,
    "nbformat_minor": 2
}
