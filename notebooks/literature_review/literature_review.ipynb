{
    "cells": [
        {
            "attachments": {},
            "cell_type": "markdown",
            "metadata": {},
            "source": [
                "# literature review"
            ]
        },
        {
            "cell_type": "code",
            "execution_count": 1,
            "metadata": {},
            "outputs": [],
            "source": [
                "# ! cd ~/git/openai; pip3 install -e .\n",
                "# !pip3 install --upgrade openai"
            ]
        },
        {
            "cell_type": "code",
            "execution_count": 2,
            "metadata": {},
            "outputs": [
                {
                    "name": "stderr",
                    "output_type": "stream",
                    "text": [
                        "🛠️  using openai_commands-3.52.1.\n"
                    ]
                }
            ],
            "source": [
                "from openai_commands import NAME, VERSION\n",
                "from openai_commands.literature_review.functions import review_literature\n",
                "from openai_commands.logger import logger\n",
                "\n",
                "logger.info(f\"using {NAME}-{VERSION}.\")"
            ]
        },
        {
            "cell_type": "code",
            "execution_count": 3,
            "metadata": {},
            "outputs": [],
            "source": [
                "# filename = \"review_463333_screen_csv_20240730130035.csv\"\n",
                "# filename = \"review_463333_irrelevant_csv_20240730131027.csv\"\n",
                "filename = \"review_463333_screen_csv_20240730130035.csv\""
            ]
        },
        {
            "cell_type": "code",
            "execution_count": 4,
            "metadata": {},
            "outputs": [
                {
                    "name": "stderr",
                    "output_type": "stream",
                    "text": [
                        "🛠️  openai_commands.literature_review.review_literature(AMR-v1): choices1.yaml -5-> review_463333_screen_csv_20240730130035.csv\n",
                        ":: loaded 3751 row(s) of Title, Authors, Abstract, Published Year, Published Month, Journal, Volume, Issue, Pages, Accession Number, DOI, Ref, Covidence #, Study, Notes, Tags from /Users/kamangir/storage/abcli/AMR-v1/review_463333_screen_csv_20240730130035.csv\n",
                        "🛠️  processing 5 item(s)...\n",
                        "🛠️  read this abstract of a scentific paper @ 3 choice(s): {'antimicrobial': 'if it talks about antimicrobial treatment for cholera.', 'susceptibility': 'if it has information regarding antibiotic-reistance or susceptibility to cholerae strains.', 'otherwise': 'not relevant'}\n",
                        "🛠️  prompt: read this abstract of a scentific paper and return \"antimicrobial\" if it talks about antimicrobial treatment for cholera. return \"susceptibility\" if it has information regarding antibiotic-reistance or susceptibility to cholerae strains. otherwise, return \"not relevant\" followed by reason in less than five words.\n",
                        "httpx HTTP Request: POST https://api.openai.com/v1/chat/completions \"HTTP/1.1 200 OK\"\n",
                        "🛠️  response: ChatCompletion(id='chatcmpl-9sCxYm9qZSPszi7BmlIoyn8CCLmaF', choices=[Choice(finish_reason='stop', index=0, logprobs=None, message=ChatCompletionMessage(content='not relevant - no mention of antimicrobial or susceptibility', role='assistant', function_call=None, tool_calls=None))], created=1722706556, model='gpt-3.5-turbo-0125', object='chat.completion', service_tier=None, system_fingerprint=None, usage=CompletionUsage(completion_tokens=10, prompt_tokens=273, total_tokens=283))\n",
                        "🛠️  not relevant - no mention of antimicrobial or susceptibility: Worldwide, there are about two billion cases of diarrhoeal disease every year and it is the second leading cause of death in children under 5 years of age, killing 1.5 million children annually.1 The most severe threat posed by diarrhoea is dehydration. In the UK, the incidence of diarrhoea is about one episode per person per year,2 and approximately 10% of children younger than 5 years old present to healthcare services with gastroenteritis each year.3 ▼Racecadotril (Hidrasec) is the first in a new class of antidiarrhoeal drug ('enkephalinase inhibitor') that has an antisecretory mechanism and is licensed in adults, children and infants (over 3 months of age) for symptomatic treatment of acute diarrhoea or as complementary treatment when causal treatment is possible.4-6 Here we review the evidence for racecadotril and its place in the management of acute diarrhoea.\n",
                        "httpx HTTP Request: POST https://api.openai.com/v1/chat/completions \"HTTP/1.1 200 OK\"\n",
                        "🛠️  response: ChatCompletion(id='chatcmpl-9sCxY4cNUDQMo1C71PfFHpKE0zymU', choices=[Choice(finish_reason='stop', index=0, logprobs=None, message=ChatCompletionMessage(content='antimicrobial', role='assistant', function_call=None, tool_calls=None))], created=1722706556, model='gpt-3.5-turbo-0125', object='chat.completion', service_tier=None, system_fingerprint=None, usage=CompletionUsage(completion_tokens=3, prompt_tokens=595, total_tokens=598))\n",
                        "🛠️  antimicrobial: BACKGROUND: Acute diarrhoea is a common cause of illness and death among children in low- to middle-income settings. World Health Organization guidelines for the clinical management of acute watery diarrhoea in children focus on oral rehydration, supplemental zinc and feeding advice. Routine use of antibiotics is not recommended except when diarrhoea is bloody or cholera is suspected. Young children who are undernourished or have a dehydrating diarrhoea are more susceptible to death at 90 days after onset of diarrhoea. Given the mortality risk associated with diarrhoea in children with malnutrition or dehydrating diarrhoea, expanding the use of antibiotics for this subset of children could be an important intervention to reduce diarrhoea-associated mortality and morbidity. We designed the Antibiotics for Childhood Diarrhoea (ABCD) trial to test this intervention. METHODS: ABCD is a double-blind, randomised trial recruiting 11,500 children aged 2-23 months presenting with acute non-bloody diarrhoea who are dehydrated and/or undernourished (i.e. have a high risk for mortality). Enrolled children in Bangladesh, India, Kenya, Malawi, Mali, Pakistan and Tanzania are randomised (1:1) to oral azithromycin 10 mg/kg or placebo once daily for 3 days and followed-up for 180 days. Primary efficacy endpoints are all-cause mortality during the 180 days post-enrolment and change in linear growth 90 days post-enrolment. DISCUSSION: Expanding the treatment of acute watery diarrhoea in high-risk children to include an antibiotic may offer an opportunity to reduce deaths. These benefits may result from direct antimicrobial effects on pathogens or other incompletely understood mechanisms including improved nutrition, alterations in immune responsiveness or improved enteric function. The expansion of indications for antibiotic use raises concerns about the emergence of antimicrobial resistance both within treated children and the communities in which they live. ABCD will monitor antimicrobial resistance. The ABCD trial has important policy implications. If the trial shows significant benefits of azithromycin use, this may provide evidence to support reconsideration of antibiotic indications in the present World Health Organization diarrhoea management guidelines. Conversely, if there is no evidence of benefit, these results will support the current avoidance of antibiotics except in dysentery or cholera, thereby avoiding inappropriate use of antibiotics and reaffirming the current guidelines. TRIAL REGISTRATION: Clinicaltrials.gov, NCT03130114. Registered on April 26 2017.\n",
                        "httpx HTTP Request: POST https://api.openai.com/v1/chat/completions \"HTTP/1.1 200 OK\"\n",
                        "🛠️  response: ChatCompletion(id='chatcmpl-9sCxZCd1vqukpS8dJDJfeTf5USWKd', choices=[Choice(finish_reason='stop', index=0, logprobs=None, message=ChatCompletionMessage(content='not relevant - no mention of cholera', role='assistant', function_call=None, tool_calls=None))], created=1722706557, model='gpt-3.5-turbo-0125', object='chat.completion', service_tier=None, system_fingerprint=None, usage=CompletionUsage(completion_tokens=8, prompt_tokens=349, total_tokens=357))\n",
                        "🛠️  not relevant - no mention of cholera: Diversity-generating and mobile genetic elements are paramount to microbial and viral evolution and result in evolutionary leaps conferring novel phenotypes, such as antimicrobial resistance. State-of-the-art algorithms to detect these elements have many limitations, including reliance on reference genomes, assemblers, and heuristics, resulting in computational bottlenecks and limiting the scope of biological discoveries. Here we introduce DIVE, a new reference-free approach to overcome these limitations using information contained in sequencing reads alone. We show that DIVE has improved detection power compared to existing reference-based methods using simulations and real data. We use DIVE to rediscover and characterize the activity of known and novel elements and generate new biological hypotheses about the mobilome. Using DIVE we rediscover CRISPR and identify novel repeats, and we discover unannotated genetic hyper-variability hotspots in Escherichia coli and Vibrio cholerae. Building on DIVE, we develop a reference-free framework capable of de novo discovery of mobile genetic elements, not currently available to our knowledge, and we use it to rediscover the known transposons in Mycobacterium tuberculosis, the causative agent of tuberculosis.Copyright The copyright holder for this preprint is the author/funder, who has granted bioRxiv a license to display the preprint in perpetuity. All rights reserved. No reuse allowed without permission.\n",
                        "httpx HTTP Request: POST https://api.openai.com/v1/chat/completions \"HTTP/1.1 200 OK\"\n",
                        "🛠️  response: ChatCompletion(id='chatcmpl-9sCxZ1o3wMB05PwzWJ1h2jL5t7SfJ', choices=[Choice(finish_reason='stop', index=0, logprobs=None, message=ChatCompletionMessage(content='not relevant - no antimicrobial information', role='assistant', function_call=None, tool_calls=None))], created=1722706557, model='gpt-3.5-turbo-0125', object='chat.completion', service_tier=None, system_fingerprint=None, usage=CompletionUsage(completion_tokens=7, prompt_tokens=429, total_tokens=436))\n",
                        "🛠️  not relevant - no antimicrobial information: OBJECTIVE: To identify the possible source of the outbreak and risk factors and suggest evidence-based recommendations for prevention and disease control in Pakistan. METHODOLOGY: This cross-sectional study was conducted in Civil Hospital Karachi, Pakistan, from March to May 2022. A total of 90 patients with a history of more than one watery stool in 24 hours were included in the study. The data about demographics, hygienic practices, illness characteristics, treatment, and biochemical parameters, including serum electrolytes and creatinine levels, were recorded. IBM SPSS version 26 was used for data analysis. RESULTS: The majority (83.3%) of symptoms were for less than one week. The mean family size was 6.7, SD 3.2, and 73.3% of patients had low income. Un-filtered municipal pipelines were the primary source of drinking water for 85.6% of patients, and 82.2% drank from tap water. Diarrhea (100%) and vomiting (81.1%), followed by abdominal discomfort (53.3%), were the most common symptoms, and 19 patients suffered acute kidney injury that resulted in the need for dialysis for a short time. Among 91 cases, only seven stool samples were positive for Vibrio cholera. CONCLUSIONS: The study suggests the contaminated drinking water as a source of the outbreak, with independent risk factors such as large family size and low income. V. Cholera was indicated as the causative pathogen but with a low positivity rate; it may be due to the presence of uncommon serotype or a mutant variant of vibrio cholera for the outbreak. © 2023, Liaquat University of Medical and Health Sciences. All rights reserved.\n",
                        "httpx HTTP Request: POST https://api.openai.com/v1/chat/completions \"HTTP/1.1 200 OK\"\n",
                        "🛠️  response: ChatCompletion(id='chatcmpl-9sCxa8sIrLzJHwugp0HO97nJb79eP', choices=[Choice(finish_reason='stop', index=0, logprobs=None, message=ChatCompletionMessage(content='susceptibility - antibiotic resistance info', role='assistant', function_call=None, tool_calls=None))], created=1722706558, model='gpt-3.5-turbo-0125', object='chat.completion', service_tier=None, system_fingerprint=None, usage=CompletionUsage(completion_tokens=7, prompt_tokens=527, total_tokens=534))\n",
                        "🛠️  susceptibility - antibiotic resistance info: Aims: This study represents the first analysis from Iran for both the frequency of the most common causes of infectious diarrhoea and their antibiotic resistance patterns in adult patients. Methods: Adult stool specimens (n = 211) were analyzed. Stool specimens were analyzed using standard microbiological, polymerase chain reaction, and reverse transcription polymerase chain reaction tests to identify bacterial, parasitic, and viral enteropathogens. Antibiotic resistance profiles were determined. Results: Enteropathogens were identified in 46.4% (98/211) of the surveyed samples. This included 33.1% (70/211) bacterial infections, including 9.9% (21/211) diarrheagenic Escherichia coli (DEC) and 8.5% (18/211) Shigella spp. We detected 7.1% (15/211) parasitic infections (mostly Giardia lamblia) and 6.1% (13/211) viral infections (mostly adenovirus). The DEC and Shigella spp. isolates included many multi-drug resistant (MDR) isolates (95.2% and 77.7%, respectively), and extended spectrum-β-lactamase (ESBL) genes were often present (57.1% and 61.1%, respectively). The most commonly identified ESBL genes in the DEC and Shigella spp. isolates were blaTEM (100% in both species), blaCTX-M15 (91.6% and 100%, respectively), AmpC blaCIT (80% and 100%, respectively), and blaDHA (80% and 100%, respectively). Conclusions: Bacterial infection was the primary cause of infectious diarrhea, affecting one-third of the adults. The frequency of DEC and Shigella spp. was higher than for other enteropathogens. The high prevalence of MDR, the elevated incidence of ESBL genes among Shigella spp. and DEC isolates, and the presence of quinolone resistance in the Salmonella spp. isolates represent a significant challenge for gastroenteritis diagnosis and treatment in this region. © 2022 Mary Ann Liebert, Inc., publishers.\n",
                        ":: save_csv: 5X[Title,Authors,Abstract,Published Year,Published Month,Journal,Volume,Issue,Pages,Accession Number,DOI,Ref,Covidence #,Study,Notes,Tags,Screening Results] -> /Users/kamangir/storage/abcli/AMR-v1/review_463333_screen_csv_20240730130035-choices1-2024-08-03-10-35-58-89766.csv\n"
                    ]
                }
            ],
            "source": [
                "assert review_literature(\n",
                "        object_name= \"AMR-v1\",\n",
                "        filename=filename,\n",
                "        choices_filename=\"choices1.yaml\",\n",
                "        count=5 # set to -1 to process all\n",
                ")"
            ]
        },
        {
            "cell_type": "code",
            "execution_count": 5,
            "metadata": {},
            "outputs": [],
            "source": [
                "# END"
            ]
        }
    ],
    "metadata": {
        "kernelspec": {
            "display_name": "Python 3",
            "language": "python",
            "name": "python3"
        },
        "language_info": {
            "codemirror_mode": {
                "name": "ipython",
                "version": 3
            },
            "file_extension": ".py",
            "mimetype": "text/x-python",
            "name": "python",
            "nbconvert_exporter": "python",
            "pygments_lexer": "ipython3",
            "version": "3.9.19"
        },
        "orig_nbformat": 4
    },
    "nbformat": 4,
    "nbformat_minor": 2
}
