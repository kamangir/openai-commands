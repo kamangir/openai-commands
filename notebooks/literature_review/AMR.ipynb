{
    "cells": [
        {
            "attachments": {},
            "cell_type": "markdown",
            "metadata": {},
            "source": [
                "# AMR clean-up"
            ]
        },
        {
            "cell_type": "code",
            "execution_count": 1,
            "metadata": {},
            "outputs": [],
            "source": [
                "import os\n",
                "os.environ[\"abcli_path_bash\"] = \"{}/git/awesome-bash-cli/bash\".format(os.getenv(\"HOME\"))"
            ]
        },
        {
            "cell_type": "code",
            "execution_count": 2,
            "metadata": {},
            "outputs": [
                {
                    "name": "stderr",
                    "output_type": "stream",
                    "text": [
                        ":: abcli-9.187.1, built on 29 July 2024, 19:43:32\n"
                    ]
                }
            ],
            "source": [
                "from abcli import fullname\n",
                "from abcli import string\n",
                "from abcli.modules import objects\n",
                "from abcli.file import load_xml\n",
                "from abcli.plugins import seed\n",
                "from abcli.logger import logger\n",
                "\n",
                "logger.info(f\"{fullname()}, built on {string.pretty_date()}\")"
            ]
        },
        {
            "cell_type": "code",
            "execution_count": 3,
            "metadata": {},
            "outputs": [],
            "source": [
                "object_name = \"AMR-v1\"\n",
                "filename = \"20240709_IDDO_MakotoSaito_CholeraObjective2.xml\"\n",
                "\n",
                "do_download = False"
            ]
        },
        {
            "cell_type": "code",
            "execution_count": 4,
            "metadata": {},
            "outputs": [
                {
                    "name": "stdout",
                    "output_type": "stream",
                    "text": [
                        "🌀 blueness-3.66.1\n",
                        "🌀 blue_options-4.36.1\n",
                        "\u001b[0;36m📜 awesome-bash-cli: .env: 24 env var(s)\u001b[0m\n",
                        "\u001b[0;36m📜 awesome-bash-cli: abcli/config.env: 13 env var(s)\u001b[0m\n",
                        "\u001b[0;36m🔋 gpu: not found.\u001b[0m\n",
                        "\u001b[0;36m🚀 abcli-9.187.1.current\u001b[0m\n"
                    ]
                }
            ],
            "source": [
                "%%bash -s $do_download $object_name\n",
                "source ~/git/awesome-bash-cli/abcli/.abcli/abcli.sh in_notebook\n",
                "\n",
                "do_download=$1\n",
                "object_name=$2\n",
                "\n",
                "if [[ \"$do_download\" == True ]] ; then\n",
                "    abcli download - $object_name\n",
                "fi"
            ]
        },
        {
            "attachments": {},
            "cell_type": "markdown",
            "metadata": {},
            "source": [
                "---"
            ]
        },
        {
            "cell_type": "code",
            "execution_count": 5,
            "metadata": {},
            "outputs": [],
            "source": [
                "success, xml_content = load_xml(objects.path_of(filename, object_name))\n",
                "assert success"
            ]
        },
        {
            "cell_type": "code",
            "execution_count": 6,
            "metadata": {},
            "outputs": [
                {
                    "data": {
                        "text/plain": [
                            "<Element 'xml' at 0x7faab8a60900>"
                        ]
                    },
                    "execution_count": 6,
                    "metadata": {},
                    "output_type": "execute_result"
                }
            ],
            "source": [
                "xml_content"
            ]
        },
        {
            "cell_type": "code",
            "execution_count": 7,
            "metadata": {},
            "outputs": [],
            "source": [
                "records = xml_content.find('records')\n",
                "assert records is not None"
            ]
        },
        {
            "cell_type": "code",
            "execution_count": 8,
            "metadata": {},
            "outputs": [
                {
                    "name": "stderr",
                    "output_type": "stream",
                    "text": [
                        ":: loaded 4593 record(s).\n"
                    ]
                }
            ],
            "source": [
                "count = 0\n",
                "if records is not None:\n",
                "    for record in records.findall('record'):\n",
                "        count += 1\n",
                "\n",
                "logger.info(f\"loaded {count} record(s).\")"
            ]
        },
        {
            "cell_type": "code",
            "execution_count": 9,
            "metadata": {},
            "outputs": [
                {
                    "name": "stderr",
                    "output_type": "stream",
                    "text": [
                        ":: #0: Health catastrophe: the toll of cholera in Yemen\n",
                        ":: #1: Vibrio spp. infections\n",
                        ":: #2: Public health round-up\n",
                        ":: #3: In the Literature\n",
                        ":: #4: International Meeting on Emerging Diseases and Surveillance (IMED) 2018, Vienna, Austria, 9-12 November 2018\n",
                        ":: #5: A double-blind placebo-controlled trial of azithromycin to reduce mortality and improve growth in high-risk young children with non-bloody diarrhoea in low resource settings: the Antibiotics for Children with Diarrhoea (ABCD) trial protocol\n",
                        ":: #6: Disease surveillance in England and Wales, December 2019\n",
                        ":: #7: Special Issue: Gut pathogens\n",
                        ":: #8: Isolation, chemical characterization and in vitro bioactive potential of polysaccharides from seaweed Portieria hornemannii\n",
                        ":: #9: Erratum: Pharmacological Management of Cholera: A Century of Expert Opinions in Cecil Textbook of Medicine (Am J Ther. (2023) 30:6 (e519-e525) DOI: 10.1097/MJT.0000000000001679)\n"
                    ]
                }
            ],
            "source": [
                "for index, record in enumerate(records.findall('record')[:10]):\n",
                "    title_element = record.find('.//title')\n",
                "    if title_element is None:\n",
                "        continue\n",
                "\n",
                "    title_text = title_element.find('.//style').text if title_element.find('.//style') is not None else 'No title'\n",
                "    title_text = title_text.replace(\"\\n\", \"\")\n",
                "    while \"  \" in title_text:\n",
                "        title_text = title_text.replace(\"  \", \" \")\n",
                "\n",
                "    logger.info(f\"#{index}: {title_text}\")"
            ]
        },
        {
            "cell_type": "code",
            "execution_count": 17,
            "metadata": {},
            "outputs": [
                {
                    "name": "stdout",
                    "output_type": "stream",
                    "text": [
                        "<Element 'record' at 0x7faab8a082c0>\n"
                    ]
                }
            ],
            "source": [
                "print(records.findall('record')[1])"
            ]
        },
        {
            "cell_type": "code",
            "execution_count": 10,
            "metadata": {},
            "outputs": [
                {
                    "name": "stdout",
                    "output_type": "stream",
                    "text": [
                        "[<Element 'title' at 0x7faab8dc77c0>]\n"
                    ]
                }
            ],
            "source": [
                "print(record.find(\"titles\").findall(\"title\"))"
            ]
        },
        {
            "cell_type": "code",
            "execution_count": 11,
            "metadata": {},
            "outputs": [
                {
                    "name": "stderr",
                    "output_type": "stream",
                    "text": [
                        ":: Hello World! 🪄\n"
                    ]
                }
            ],
            "source": [
                "logger.info(\"Hello World! 🪄\")"
            ]
        },
        {
            "attachments": {},
            "cell_type": "markdown",
            "metadata": {},
            "source": [
                "---"
            ]
        },
        {
            "cell_type": "code",
            "execution_count": 12,
            "metadata": {},
            "outputs": [
                {
                    "name": "stdout",
                    "output_type": "stream",
                    "text": [
                        "🌀 blueness-3.66.1\n",
                        "🌀 blue_options-4.36.1\n",
                        "\u001b[0;36m📜 awesome-bash-cli: .env: 24 env var(s)\u001b[0m\n",
                        "\u001b[0;36m📜 awesome-bash-cli: abcli/config.env: 13 env var(s)\u001b[0m\n",
                        "\u001b[0;36m🔋 gpu: not found.\u001b[0m\n",
                        "\u001b[0;36m🚀 abcli-9.187.1.current\u001b[0m\n",
                        "\u001b[0;36mconfirmed: AMR-v1 does not exist.\u001b[0m\n",
                        "\u001b[0;36mAMR-v1 open upload started.\u001b[0m\n",
                        "upload: ../../../../storage/abcli/AMR-v1/AMR-v1 to s3://kamangir/bolt/AMR-v1/AMR-v1\n"
                    ]
                },
                {
                    "name": "stderr",
                    "output_type": "stream",
                    "text": [
                        ":: AMR-v1 += #open.\n"
                    ]
                }
            ],
            "source": [
                "%%bash -s $object_name\n",
                "source ~/git/awesome-bash-cli/abcli/.abcli/abcli.sh in_notebook\n",
                "\n",
                "object_name=$1\n",
                "\n",
                "abcli upload - $object_name"
            ]
        },
        {
            "cell_type": "code",
            "execution_count": 13,
            "metadata": {},
            "outputs": [
                {
                    "name": "stderr",
                    "output_type": "stream",
                    "text": [
                        ":: abcli select AMR-v1; open .\n"
                    ]
                }
            ],
            "source": [
                "seed.log(object_name)"
            ]
        },
        {
            "cell_type": "code",
            "execution_count": 14,
            "metadata": {},
            "outputs": [],
            "source": [
                "# END"
            ]
        }
    ],
    "metadata": {
        "kernelspec": {
            "display_name": "Python 3 (ipykernel)",
            "language": "python",
            "name": "python3"
        },
        "language_info": {
            "codemirror_mode": {
                "name": "ipython",
                "version": 3
            },
            "file_extension": ".py",
            "mimetype": "text/x-python",
            "name": "python",
            "nbconvert_exporter": "python",
            "pygments_lexer": "ipython3",
            "version": "3.9.19"
        },
        "toc": {
            "base_numbering": 1,
            "nav_menu": {},
            "number_sections": true,
            "sideBar": true,
            "skip_h1_title": false,
            "title_cell": "Table of Contents",
            "title_sidebar": "Contents",
            "toc_cell": false,
            "toc_position": {},
            "toc_section_display": true,
            "toc_window_display": false
        }
    },
    "nbformat": 4,
    "nbformat_minor": 2
}
