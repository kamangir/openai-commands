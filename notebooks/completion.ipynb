{
    "cells": [
        {
            "attachments": {},
            "cell_type": "markdown",
            "metadata": {},
            "source": [
                "# [OpenAI completion](../openai_commands/completion/api.py)"
            ]
        },
        {
            "cell_type": "code",
            "execution_count": 1,
            "metadata": {},
            "outputs": [],
            "source": [
                "# ! pip3 install --upgrade openai"
            ]
        },
        {
            "cell_type": "code",
            "execution_count": 2,
            "metadata": {},
            "outputs": [
                {
                    "name": "stderr",
                    "output_type": "stream",
                    "text": [
                        "🛠️  openai_commands-3.208.1.blueflow-4.849.1.abcli-9.486.1.blue_objects-5.281.1.blue_options-4.200.1.torch-2.5.1.Python 3.9.6.Darwin 23.6.0..Jupyter-Notebook,\n",
                        "built on 01 February 2025, 11:09:43\n"
                    ]
                }
            ],
            "source": [
                "import sys\n",
                "sys.path.append(\"../\")\n",
                "\n",
                "from blueflow import notebooks\n",
                "\n",
                "from blue_options import string\n",
                "\n",
                "from openai_commands.completion.api import complete_prompt\n",
                "from openai_commands.host import signature\n",
                "from openai_commands.logger import logger\n",
                "\n",
                "logger.info(f\"{'.'.join(signature())},\\nbuilt on {string.pretty_date()}\")"
            ]
        },
        {
            "cell_type": "code",
            "execution_count": 3,
            "metadata": {},
            "outputs": [
                {
                    "name": "stderr",
                    "output_type": "stream",
                    "text": [
                        "httpx HTTP Request: POST https://api.openai.com/v1/chat/completions \"HTTP/1.1 200 OK\"\n",
                        "🛠️  response: ChatCompletion(id='chatcmpl-AwDA7eIQjJTbgWXbGwEZ5MddZ7ndD', choices=[Choice(finish_reason='stop', index=0, logprobs=None, message=ChatCompletionMessage(content='Logic, numbers, shapes, patterns, calculations, problem-solving.', refusal=None, role='assistant', audio=None, function_call=None, tool_calls=None))], created=1738436983, model='gpt-3.5-turbo-0125', object='chat.completion', service_tier='default', system_fingerprint=None, usage=CompletionUsage(completion_tokens=14, prompt_tokens=13, total_tokens=27, completion_tokens_details=CompletionTokensDetails(accepted_prediction_tokens=0, audio_tokens=0, reasoning_tokens=0, rejected_prediction_tokens=0), prompt_tokens_details=PromptTokensDetails(audio_tokens=0, cached_tokens=0)))\n"
                    ]
                }
            ],
            "source": [
                "success, text, _ = complete_prompt(\"Describe Mathematics in seven words.\")\n",
                "assert success"
            ]
        },
        {
            "cell_type": "code",
            "execution_count": 4,
            "metadata": {},
            "outputs": [
                {
                    "name": "stderr",
                    "output_type": "stream",
                    "text": [
                        "🛠️  text: Logic, numbers, shapes, patterns, calculations, problem-solving.\n"
                    ]
                }
            ],
            "source": [
                "logger.info(f\"text: {text}\")"
            ]
        },
        {
            "cell_type": "code",
            "execution_count": 5,
            "metadata": {},
            "outputs": [],
            "source": [
                "# END"
            ]
        }
    ],
    "metadata": {
        "kernelspec": {
            "display_name": ".venv",
            "language": "python",
            "name": "python3"
        },
        "language_info": {
            "codemirror_mode": {
                "name": "ipython",
                "version": 3
            },
            "file_extension": ".py",
            "mimetype": "text/x-python",
            "name": "python",
            "nbconvert_exporter": "python",
            "pygments_lexer": "ipython3",
            "version": "3.9.6"
        },
        "orig_nbformat": 4
    },
    "nbformat": 4,
    "nbformat_minor": 2
}
