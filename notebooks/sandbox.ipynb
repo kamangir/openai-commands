{
    "cells": [
        {
            "attachments": {},
            "cell_type": "markdown",
            "metadata": {},
            "source": [
                "# OpenAI Sandbox\n",
                "\n",
                "using https://github.com/openai/openai-python/discussions/742"
            ]
        },
        {
            "cell_type": "code",
            "execution_count": 1,
            "metadata": {},
            "outputs": [
                {
                    "name": "stderr",
                    "output_type": "stream",
                    "text": [
                        "🛠️  openai_commands-3.209.1.blueflow-4.849.1.abcli-9.486.1.blue_objects-5.281.1.blue_options-4.200.1.torch-2.5.1.Python 3.9.6.Darwin 23.6.0..Jupyter-Notebook,\n",
                        "built on 01 February 2025, 11:11:16\n"
                    ]
                }
            ],
            "source": [
                "import sys\n",
                "sys.path.append(\"../\")\n",
                "\n",
                "from blueflow import notebooks\n",
                "\n",
                "import json\n",
                "from openai import OpenAI\n",
                "\n",
                "from blue_options import string\n",
                "from blue_objects import objects\n",
                "\n",
                "from openai_commands.host import signature\n",
                "from openai_commands import env\n",
                "from openai_commands.logger import logger\n",
                "\n",
                "logger.info(f\"{'.'.join(signature())},\\nbuilt on {string.pretty_date()}\")"
            ]
        },
        {
            "cell_type": "code",
            "execution_count": 2,
            "metadata": {},
            "outputs": [],
            "source": [
                "assert env.OPENAI_API_KEY\n",
                "client = OpenAI(api_key=env.OPENAI_API_KEY)"
            ]
        },
        {
            "cell_type": "code",
            "execution_count": 3,
            "metadata": {},
            "outputs": [],
            "source": [
                "prompt = \"describe mathematics\""
            ]
        },
        {
            "cell_type": "code",
            "execution_count": 4,
            "metadata": {},
            "outputs": [
                {
                    "name": "stderr",
                    "output_type": "stream",
                    "text": [
                        "httpx HTTP Request: POST https://api.openai.com/v1/chat/completions \"HTTP/1.1 200 OK\"\n"
                    ]
                }
            ],
            "source": [
                "response = client.chat.completions.create(\n",
                "    messages=[\n",
                "        {\n",
                "            \"role\": \"user\",\n",
                "            \"content\": prompt,\n",
                "        }\n",
                "    ],\n",
                "    model=\"gpt-3.5-turbo\",\n",
                ")"
            ]
        },
        {
            "cell_type": "code",
            "execution_count": 5,
            "metadata": {},
            "outputs": [
                {
                    "name": "stderr",
                    "output_type": "stream",
                    "text": [
                        "🛠️  [\n",
                        "    {\n",
                        "        \"finish_reason\": \"stop\",\n",
                        "        \"index\": 0,\n",
                        "        \"logprobs\": null,\n",
                        "        \"message\": {\n",
                        "            \"content\": \"Mathematics is the study of numbers, quantity, structure, space, and change. It involves abstract concepts such as algorithms, logic, and infinity, as well as practical applications in almost every aspect of our lives. Mathematics uses symbols, formulas, and equations to describe relationships and patterns, and it is used to model and analyze the world around us. It is considered the universal language of science and is used in a wide range of fields including physics, engineering, economics, and computer science. Mathematics is also used to solve problems, make predictions, and generate new knowledge.\",\n",
                        "            \"refusal\": null,\n",
                        "            \"role\": \"assistant\",\n",
                        "            \"audio\": null,\n",
                        "            \"function_call\": null,\n",
                        "            \"tool_calls\": null\n",
                        "        }\n",
                        "    }\n",
                        "]\n"
                    ]
                }
            ],
            "source": [
                "logger.info(json.dumps([choice.model_dump() for choice in response.choices],indent=4))"
            ]
        },
        {
            "cell_type": "code",
            "execution_count": 6,
            "metadata": {},
            "outputs": [
                {
                    "name": "stderr",
                    "output_type": "stream",
                    "text": [
                        "🛠️  Mathematics is the study of numbers, quantity, structure, space, and change. It involves abstract concepts such as algorithms, logic, and infinity, as well as practical applications in almost every aspect of our lives. Mathematics uses symbols, formulas, and equations to describe relationships and patterns, and it is used to model and analyze the world around us. It is considered the universal language of science and is used in a wide range of fields including physics, engineering, economics, and computer science. Mathematics is also used to solve problems, make predictions, and generate new knowledge.\n"
                    ]
                }
            ],
            "source": [
                "if response.choices:\n",
                "    logger.info(response.choices[0].message.content)"
            ]
        },
        {
            "cell_type": "code",
            "execution_count": 7,
            "metadata": {},
            "outputs": [],
            "source": [
                "# END"
            ]
        }
    ],
    "metadata": {
        "kernelspec": {
            "display_name": ".venv",
            "language": "python",
            "name": "python3"
        },
        "language_info": {
            "codemirror_mode": {
                "name": "ipython",
                "version": 3
            },
            "file_extension": ".py",
            "mimetype": "text/x-python",
            "name": "python",
            "nbconvert_exporter": "python",
            "pygments_lexer": "ipython3",
            "version": "3.9.6"
        },
        "toc": {
            "base_numbering": 1,
            "nav_menu": {},
            "number_sections": true,
            "sideBar": true,
            "skip_h1_title": false,
            "title_cell": "Table of Contents",
            "title_sidebar": "Contents",
            "toc_cell": false,
            "toc_position": {},
            "toc_section_display": true,
            "toc_window_display": false
        }
    },
    "nbformat": 4,
    "nbformat_minor": 2
}
