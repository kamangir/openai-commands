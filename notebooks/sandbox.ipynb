{
    "cells": [
        {
            "attachments": {},
            "cell_type": "markdown",
            "metadata": {},
            "source": [
                "# OpenAI Sandbox\n",
                "\n",
                "using https://github.com/openai/openai-python/discussions/742"
            ]
        },
        {
            "cell_type": "code",
            "execution_count": 1,
            "metadata": {},
            "outputs": [],
            "source": [
                "import sys\n",
                "sys.path.append(\"../\")\n",
                "\n",
                "from blueflow import notebooks\n",
                "\n",
                "from blue_options import string\n",
                "from blue_objects import objects\n",
                "\n",
                "from openai_commands.host import signature\n",
                "from openai_commands.logger import logger\n",
                "\n",
                "logger.info(f\"{'.'.join(signature())},\\nbuilt on {string.pretty_date()}\")"
            ]
        },
        {
            "cell_type": "code",
            "execution_count": 2,
            "metadata": {},
            "outputs": [
                {
                    "name": "stderr",
                    "output_type": "stream",
                    "text": [
                        " 🛠️  :: abcli-7.2928.1-current, built on 22 March 2024, 19:14:19\n"
                    ]
                }
            ],
            "source": [
                "import json\n",
                "from abcli import fullname, string\n",
                "from openai import OpenAI\n",
                "from openai_commands import env\n",
                "from openai_commands.logger import logger\n",
                "\n",
                "logger.info(f\"{fullname()}, built on {string.pretty_date()}\")"
            ]
        },
        {
            "cell_type": "code",
            "execution_count": 3,
            "metadata": {},
            "outputs": [],
            "source": [
                "client = OpenAI(api_key=env.OPENAI_API_KEY)"
            ]
        },
        {
            "cell_type": "code",
            "execution_count": 4,
            "metadata": {},
            "outputs": [],
            "source": [
                "prompt = \"describe mathematics\""
            ]
        },
        {
            "cell_type": "code",
            "execution_count": 5,
            "metadata": {},
            "outputs": [
                {
                    "name": "stderr",
                    "output_type": "stream",
                    "text": [
                        " httpx :: HTTP Request: POST https://api.openai.com/v1/chat/completions \"HTTP/1.1 200 OK\"\n"
                    ]
                }
            ],
            "source": [
                "response = client.chat.completions.create(\n",
                "    messages=[\n",
                "        {\n",
                "            \"role\": \"user\",\n",
                "            \"content\": prompt,\n",
                "        }\n",
                "    ],\n",
                "    model=\"gpt-3.5-turbo\",\n",
                ")"
            ]
        },
        {
            "cell_type": "code",
            "execution_count": 6,
            "metadata": {},
            "outputs": [
                {
                    "name": "stderr",
                    "output_type": "stream",
                    "text": [
                        " 🛠️  :: [\n",
                        "    {\n",
                        "        \"finish_reason\": \"stop\",\n",
                        "        \"index\": 0,\n",
                        "        \"message\": {\n",
                        "            \"content\": \"Mathematics is a field of study that deals with the properties and relationships of numbers, quantities, shapes, and patterns. It involves the use of logic and reasoning to solve problems and understand the fundamental concepts of the universe. Mathematics is a universal language that is used across various disciplines such as science, engineering, economics, and computer science. It is divided into various branches such as algebra, geometry, calculus, statistics, and number theory, each with its own set of rules and principles. Mathematics plays a crucial role in our everyday lives, from simple calculations to complex scientific theories. It allows us to make sense of the world around us and make informed decisions based on data and evidence.\",\n",
                        "            \"role\": \"assistant\",\n",
                        "            \"function_call\": null,\n",
                        "            \"tool_calls\": null\n",
                        "        },\n",
                        "        \"logprobs\": null\n",
                        "    }\n",
                        "]\n"
                    ]
                }
            ],
            "source": [
                "logger.info(json.dumps([choice.model_dump() for choice in response.choices],indent=4))"
            ]
        },
        {
            "cell_type": "code",
            "execution_count": 7,
            "metadata": {},
            "outputs": [
                {
                    "name": "stderr",
                    "output_type": "stream",
                    "text": [
                        " 🛠️  :: Mathematics is a field of study that deals with the properties and relationships of numbers, quantities, shapes, and patterns. It involves the use of logic and reasoning to solve problems and understand the fundamental concepts of the universe. Mathematics is a universal language that is used across various disciplines such as science, engineering, economics, and computer science. It is divided into various branches such as algebra, geometry, calculus, statistics, and number theory, each with its own set of rules and principles. Mathematics plays a crucial role in our everyday lives, from simple calculations to complex scientific theories. It allows us to make sense of the world around us and make informed decisions based on data and evidence.\n"
                    ]
                }
            ],
            "source": [
                "if response.choices:\n",
                "    logger.info(response.choices[0].message.content)"
            ]
        },
        {
            "cell_type": "code",
            "execution_count": 8,
            "metadata": {},
            "outputs": [],
            "source": [
                "# END"
            ]
        }
    ],
    "metadata": {
        "kernelspec": {
            "display_name": "Python 3 (ipykernel)",
            "language": "python",
            "name": "python3"
        },
        "language_info": {
            "codemirror_mode": {
                "name": "ipython",
                "version": 3
            },
            "file_extension": ".py",
            "mimetype": "text/x-python",
            "name": "python",
            "nbconvert_exporter": "python",
            "pygments_lexer": "ipython3",
            "version": "3.9.18"
        },
        "toc": {
            "base_numbering": 1,
            "nav_menu": {},
            "number_sections": true,
            "sideBar": true,
            "skip_h1_title": false,
            "title_cell": "Table of Contents",
            "title_sidebar": "Contents",
            "toc_cell": false,
            "toc_position": {},
            "toc_section_display": true,
            "toc_window_display": false
        }
    },
    "nbformat": 4,
    "nbformat_minor": 2
}
